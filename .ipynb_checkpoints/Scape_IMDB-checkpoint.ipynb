{
 "cells": [
  {
   "cell_type": "code",
   "execution_count": 1,
   "id": "2f594ef4-2bf7-4ed4-997b-77ea88cae708",
   "metadata": {},
   "outputs": [],
   "source": [
    "#import\n",
    "from bs4 import BeautifulSoup\n",
    "import requests, openpyxl"
   ]
  },
  {
   "cell_type": "code",
   "execution_count": 12,
   "id": "1085083a-1aae-4f74-8d7d-a9ad4fc1cf16",
   "metadata": {},
   "outputs": [],
   "source": [
    "try:\n",
    "    source = requests.get('https://www.imdb.com/chart/top/')\n",
    "    source.raise_for_status() # error if the url is not valid\n",
    "except Exception as e:\n",
    "    print(e)"
   ]
  },
  {
   "cell_type": "code",
   "execution_count": 30,
   "id": "d6712d8b-9f50-40d8-a168-3c5d3fdd7ddf",
   "metadata": {},
   "outputs": [],
   "source": [
    "#extract\n",
    "soup = BeautifulSoup(source.text,'html.parser')\n",
    "\n",
    "movies = soup.find('tbody', class_=\"lister-list\").find_all('tr')\n",
    "\n",
    "for movie in movies:\n",
    "    \n",
    "    name = movie.find('td',class_=\"titleColumn\").a.text #movie name\n",
    "    \n",
    "    rank = movie.find('td',class_=\"titleColumn\").get_text(strip=True).split('.')[0] #rank\n",
    "    \n",
    "    year = movie.find('td',class_=\"titleColumn\").span.text.strip('()') #year\n",
    "    \n",
    "    rating = movie.find('td',class_=\"ratingColumn imdbRating\").strong.text #rating\n",
    "    \n",
    "    #print(rank, name, year, rating)\n",
    "   "
   ]
  },
  {
   "cell_type": "code",
   "execution_count": null,
   "id": "839f8f7e-61ab-442d-9359-cc06f26047d5",
   "metadata": {},
   "outputs": [],
   "source": []
  }
 ],
 "metadata": {
  "kernelspec": {
   "display_name": "Python 3 (ipykernel)",
   "language": "python",
   "name": "python3"
  },
  "language_info": {
   "codemirror_mode": {
    "name": "ipython",
    "version": 3
   },
   "file_extension": ".py",
   "mimetype": "text/x-python",
   "name": "python",
   "nbconvert_exporter": "python",
   "pygments_lexer": "ipython3",
   "version": "3.9.7"
  }
 },
 "nbformat": 4,
 "nbformat_minor": 5
}
